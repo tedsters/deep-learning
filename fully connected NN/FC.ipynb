{
  "nbformat": 4,
  "nbformat_minor": 0,
  "metadata": {
    "colab": {
      "name": "FC.ipynb",
      "provenance": [],
      "collapsed_sections": []
    },
    "kernelspec": {
      "name": "Python 3.8.5 64-bit",
      "display_name": "Python 3.8.5 64-bit",
      "metadata": {
        "interpreter": {
          "hash": "18c1af65c76114b2364ab3c2f60699c122a573cf93b1ce6098cf8c745b930a1c"
        }
      }
    }
  },
  "cells": [
    {
      "cell_type": "markdown",
      "metadata": {
        "id": "SpSnhz6KwAR2",
        "colab_type": "text"
      },
      "source": [
        "Keras is a powerful and easy-to-use Python library for developing and evaluating deep learning models. It wraps the efficient numerical computation libraries Theano, CNTK and TensorFlow and allows you to define and train neural network models in a few short lines of code. In this tutorial you will discover how to create your first neural network model in Python using Keras. After completing this lesson you will know:\n",
        "\n",
        "\n",
        "*   How to load a dataset for use with Keras.\n",
        "*   How to define and compile a Multilayer Perceptron model in Keras.\n",
        "*   How to evaluate a Keras model on a validation dataset.\n",
        "\n"
      ]
    },
    {
      "cell_type": "markdown",
      "metadata": {
        "id": "T6sPb6S9wTew",
        "colab_type": "text"
      },
      "source": [
        "# Load Libraries"
      ]
    },
    {
      "cell_type": "markdown",
      "metadata": {
        "id": "xZw7VarZwd-G",
        "colab_type": "text"
      },
      "source": [
        "First step is to load the required libraries."
      ]
    },
    {
      "cell_type": "code",
      "metadata": {
        "id": "xWwF5yAuw2Xx",
        "colab_type": "code",
        "colab": {}
      },
      "source": [
        "import numpy \n",
        "import matplotlib.pyplot as plt\n",
        "from keras.models import Sequential\n",
        "from keras.layers import Dense\n",
        "from keras.utils import np_utils\n",
        "from keras.datasets import mnist"
      ],
      "execution_count": 2,
      "outputs": []
    },
    {
      "cell_type": "markdown",
      "metadata": {
        "id": "578Oi4Mgw9hr",
        "colab_type": "text"
      },
      "source": [
        "# Load Dataset in Numpy Format"
      ]
    },
    {
      "cell_type": "markdown",
      "metadata": {
        "id": "dxW0gFlxxAK9",
        "colab_type": "text"
      },
      "source": [
        "MNIST is a simple computer vision dataset. It consists of images of handwritten digits. It also includes labels for each image, telling us which digit it is.\n",
        "\n",
        "The MNIST data is split into three parts: $60,000$ data points of training data, and $10,000$ points of test data. Each image is 28 pixels by 28 pixels."
      ]
    },
    {
      "cell_type": "code",
      "metadata": {
        "id": "A9nKAP49x0GI",
        "colab_type": "code",
        "colab": {}
      },
      "source": [
        "(X_train1, y_train1), (X_test1, y_test1) = mnist.load_data()"
      ],
      "execution_count": 3,
      "outputs": []
    },
    {
      "cell_type": "code",
      "execution_count": 49,
      "metadata": {},
      "outputs": [
        {
          "output_type": "execute_result",
          "data": {
            "text/plain": [
              "array([0, 1, 2, 3, 4, 5, 6, 7, 8, 9], dtype=uint8)"
            ]
          },
          "metadata": {},
          "execution_count": 49
        }
      ],
      "source": [
        "numpy.unique(y_train1)"
      ]
    },
    {
      "cell_type": "code",
      "metadata": {
        "id": "d4JngwOmyDpP",
        "colab_type": "code",
        "colab": {}
      },
      "source": [
        "X_train1.shape"
      ],
      "execution_count": 4,
      "outputs": [
        {
          "output_type": "execute_result",
          "data": {
            "text/plain": [
              "(60000, 28, 28)"
            ]
          },
          "metadata": {},
          "execution_count": 4
        }
      ]
    },
    {
      "cell_type": "code",
      "metadata": {
        "id": "NParITruySsa",
        "colab_type": "code",
        "colab": {}
      },
      "source": [
        "y_train1.shape"
      ],
      "execution_count": 7,
      "outputs": [
        {
          "output_type": "execute_result",
          "data": {
            "text/plain": [
              "(60000,)"
            ]
          },
          "metadata": {},
          "execution_count": 7
        }
      ]
    },
    {
      "cell_type": "code",
      "metadata": {
        "id": "G9qDBv-5yY3o",
        "colab_type": "code",
        "colab": {}
      },
      "source": [
        "X_test1.shape"
      ],
      "execution_count": 8,
      "outputs": [
        {
          "output_type": "execute_result",
          "data": {
            "text/plain": [
              "(10000, 28, 28)"
            ]
          },
          "metadata": {},
          "execution_count": 8
        }
      ]
    },
    {
      "cell_type": "code",
      "metadata": {
        "id": "QT_EfqFVydlx",
        "colab_type": "code",
        "colab": {}
      },
      "source": [
        "y_test1.shape"
      ],
      "execution_count": 9,
      "outputs": [
        {
          "output_type": "execute_result",
          "data": {
            "text/plain": [
              "(10000,)"
            ]
          },
          "metadata": {},
          "execution_count": 9
        }
      ]
    },
    {
      "cell_type": "code",
      "metadata": {
        "id": "nZllUnvJyiQ7",
        "colab_type": "code",
        "colab": {}
      },
      "source": [
        "# plot 4 images as gray scale\n",
        "plt.subplot(221)\n",
        "plt.imshow(X_train1[0], cmap=plt.get_cmap('gray'))\n",
        "plt.subplot(222)\n",
        "plt.imshow(X_train1[1], cmap=plt.get_cmap('gray'))\n",
        "plt.subplot(223)\n",
        "plt.imshow(X_train1[2], cmap=plt.get_cmap('gray'))\n",
        "plt.subplot(224)\n",
        "plt.imshow(X_train1[3], cmap=plt.get_cmap('gray'))\n",
        "# show the plot\n",
        "plt.show()"
      ],
      "execution_count": 45,
      "outputs": [
        {
          "output_type": "display_data",
          "data": {
            "text/plain": "<Figure size 432x288 with 4 Axes>",
            "image/svg+xml": "<?xml version=\"1.0\" encoding=\"utf-8\" standalone=\"no\"?>\r\n<!DOCTYPE svg PUBLIC \"-//W3C//DTD SVG 1.1//EN\"\r\n  \"http://www.w3.org/Graphics/SVG/1.1/DTD/svg11.dtd\">\r\n<!-- Created with matplotlib (https://matplotlib.org/) -->\r\n<svg height=\"250.552409pt\" version=\"1.1\" viewBox=\"0 0 315.579545 250.552409\" width=\"315.579545pt\" xmlns=\"http://www.w3.org/2000/svg\" xmlns:xlink=\"http://www.w3.org/1999/xlink\">\r\n <metadata>\r\n  <rdf:RDF xmlns:cc=\"http://creativecommons.org/ns#\" xmlns:dc=\"http://purl.org/dc/elements/1.1/\" xmlns:rdf=\"http://www.w3.org/1999/02/22-rdf-syntax-ns#\">\r\n   <cc:Work>\r\n    <dc:type rdf:resource=\"http://purl.org/dc/dcmitype/StillImage\"/>\r\n    <dc:date>2020-10-23T00:47:52.889976</dc:date>\r\n    <dc:format>image/svg+xml</dc:format>\r\n    <dc:creator>\r\n     <cc:Agent>\r\n      <dc:title>Matplotlib v3.3.1, https://matplotlib.org/</dc:title>\r\n     </cc:Agent>\r\n    </dc:creator>\r\n   </cc:Work>\r\n  </rdf:RDF>\r\n </metadata>\r\n <defs>\r\n  <style type=\"text/css\">*{stroke-linecap:butt;stroke-linejoin:round;}</style>\r\n </defs>\r\n <g id=\"figure_1\">\r\n  <g id=\"patch_1\">\r\n   <path d=\"M 0 250.552409 \r\nL 315.579545 250.552409 \r\nL 315.579545 0 \r\nL 0 0 \r\nz\r\n\" style=\"fill:none;\"/>\r\n  </g>\r\n  <g id=\"axes_1\">\r\n   <g id=\"patch_2\">\r\n    <path d=\"M 26.925 108.070647 \r\nL 125.761364 108.070647 \r\nL 125.761364 9.234284 \r\nL 26.925 9.234284 \r\nz\r\n\" style=\"fill:#ffffff;\"/>\r\n   </g>\r\n   <g clip-path=\"url(#pe87917171d)\">\r\n    <image height=\"99\" id=\"image94e52903cd\" transform=\"scale(1 -1)translate(0 -99)\" width=\"99\" x=\"26.925\" xlink:href=\"data:image/png;base64,\r\niVBORw0KGgoAAAANSUhEUgAAAGMAAABjCAYAAACPO76VAAAEJUlEQVR4nO2cyyt2URTGt48M3GNAKYkBISm3kkiKEuU6MDA1EiMTpUxIiYEYyED5D8iElMtAidwGShlJGVJukcs3W/Y6dU7e873v8by+5zd6Vqt9ztbT2vvY7947xhjzaQgEf366A+QLmgEEzQCCZgBBM4CgGUDQDCBoBhA0AwiaAUSc34aTk5MqHh4e/la78/NzFa+trYl+e3tTuenpadF3d3ch9jD6YGUAQTOAiDE+V22rq6tVbA9TVVVVKpedne3nFebp6Un07Oysyk1MTIh+fHz09Xw0WBlA0AwgaAYQvucML9LT01W8sLAguqysTOXy8vJ8vWNvb0+0/QlsjDHr6+sqfn5+9vWOoGFlAEEzgIjIMOVFZmamiouKikTPzc2pXGFhoa937O/vq3hqakr0ysqKyn18fPh6RyRgZQBBM4CgGUAEPmd4kZWVpeLe3l7RAwMDKpebm+vrHYeHhyoeHx8Xvbq66uuZ4YKVAQTNAAJqmPKioKBAxfaw1dnZqXLO4c6L9/d30ZubmyrX0tISShf/GVYGEDQDCJoBRNTMGV6UlpaquLu7W8WVlZWim5qaXJ9zdnam4vLyctFBLJuwMoCgGUD8imEqFF5eXlQcF/e1dcy5b6u5uVn09vZ2RPtlDCsDCpoBBM0AwvdeW2TS0tJU3NbWJjo2Nta13e7uroqDmCdsWBlA0AwgfsUwVVJSouKZmRkVNzY2ura193TZPzT9BKwMIGgGEDQDiKidMzo6OkQvLS2pXHJysmu7kZERFS8vL4u+ubkJU+/8wcoAgmYAQTOAiJol9Pz8fBUfHR2Jdh5L3traUrG9cW1+fl7lPj9x/nxWBhA0AwjoT9vExETRi4uLKpeUlCS6p6dH5TY2NiLbsQjBygCCZgBBM4CAnjPGxsZE19fXq9zOzo5o54blaIWVAQTNAOLHh6mUlBTR9/f3Kpeamurazv7URTo+/C+wMoCgGUDQDCACX7Vtb29XcWtrq+jj42OVc96+ZnNyciK6rq5O5Zw3sxUXF4seGhpSuf7+fs/+BgkrAwiaAUQgw5R9GZjzxhu/l3/ZOJ/p/LGpoaFB9Ovrq8p5fT4HDSsDCJoBBM0AIpDlkJycHNEZGRlhf77zwmMv7DN8xhjT19cn+uHhwbWdc4Pb7e2t6IuLi2+/3wtWBhA0A4jA/wO3hyxjjImPjxddU1OjcrW1taKdR8O6urrC0p/r62vRBwcHKmfv53X+V396eip6dHRU5fweP2NlAEEzgKAZQAT+S9/V1ZVr7vLyUsX22QnnkeFQljHsW9sSEhJUzr7hbXBwUOXspRP78kpjjKmoqBDt3CzBOeMXQDOAiJojAf8DrAwgaAYQNAMImgEEzQCCZgBBM4CgGUDQDCBoBhA0AwiaAQTNAIJmAEEzgKAZQNAMIP4C5o/o9XPnuT8AAAAASUVORK5CYII=\" y=\"-9.070647\"/>\r\n   </g>\r\n   <g id=\"matplotlib.axis_1\">\r\n    <g id=\"xtick_1\">\r\n     <g id=\"line2d_1\">\r\n      <defs>\r\n       <path d=\"M 0 0 \r\nL 0 3.5 \r\n\" id=\"md4e4ddc220\" style=\"stroke:#000000;stroke-width:0.8;\"/>\r\n      </defs>\r\n      <g>\r\n       <use style=\"stroke:#000000;stroke-width:0.8;\" x=\"28.689935\" xlink:href=\"#md4e4ddc220\" y=\"108.070647\"/>\r\n      </g>\r\n     </g>\r\n     <g id=\"text_1\">\r\n      <!-- 0 -->\r\n      <g transform=\"translate(25.508685 122.669085)scale(0.1 -0.1)\">\r\n       <defs>\r\n        <path d=\"M 31.78125 66.40625 \r\nQ 24.171875 66.40625 20.328125 58.90625 \r\nQ 16.5 51.421875 16.5 36.375 \r\nQ 16.5 21.390625 20.328125 13.890625 \r\nQ 24.171875 6.390625 31.78125 6.390625 \r\nQ 39.453125 6.390625 43.28125 13.890625 \r\nQ 47.125 21.390625 47.125 36.375 \r\nQ 47.125 51.421875 43.28125 58.90625 \r\nQ 39.453125 66.40625 31.78125 66.40625 \r\nz\r\nM 31.78125 74.21875 \r\nQ 44.046875 74.21875 50.515625 64.515625 \r\nQ 56.984375 54.828125 56.984375 36.375 \r\nQ 56.984375 17.96875 50.515625 8.265625 \r\nQ 44.046875 -1.421875 31.78125 -1.421875 \r\nQ 19.53125 -1.421875 13.0625 8.265625 \r\nQ 6.59375 17.96875 6.59375 36.375 \r\nQ 6.59375 54.828125 13.0625 64.515625 \r\nQ 19.53125 74.21875 31.78125 74.21875 \r\nz\r\n\" id=\"DejaVuSans-48\"/>\r\n       </defs>\r\n       <use xlink:href=\"#DejaVuSans-48\"/>\r\n      </g>\r\n     </g>\r\n    </g>\r\n    <g id=\"xtick_2\">\r\n     <g id=\"line2d_2\">\r\n      <g>\r\n       <use style=\"stroke:#000000;stroke-width:0.8;\" x=\"63.988636\" xlink:href=\"#md4e4ddc220\" y=\"108.070647\"/>\r\n      </g>\r\n     </g>\r\n     <g id=\"text_2\">\r\n      <!-- 10 -->\r\n      <g transform=\"translate(57.626136 122.669085)scale(0.1 -0.1)\">\r\n       <defs>\r\n        <path d=\"M 12.40625 8.296875 \r\nL 28.515625 8.296875 \r\nL 28.515625 63.921875 \r\nL 10.984375 60.40625 \r\nL 10.984375 69.390625 \r\nL 28.421875 72.90625 \r\nL 38.28125 72.90625 \r\nL 38.28125 8.296875 \r\nL 54.390625 8.296875 \r\nL 54.390625 0 \r\nL 12.40625 0 \r\nz\r\n\" id=\"DejaVuSans-49\"/>\r\n       </defs>\r\n       <use xlink:href=\"#DejaVuSans-49\"/>\r\n       <use x=\"63.623047\" xlink:href=\"#DejaVuSans-48\"/>\r\n      </g>\r\n     </g>\r\n    </g>\r\n    <g id=\"xtick_3\">\r\n     <g id=\"line2d_3\">\r\n      <g>\r\n       <use style=\"stroke:#000000;stroke-width:0.8;\" x=\"99.287338\" xlink:href=\"#md4e4ddc220\" y=\"108.070647\"/>\r\n      </g>\r\n     </g>\r\n     <g id=\"text_3\">\r\n      <!-- 20 -->\r\n      <g transform=\"translate(92.924838 122.669085)scale(0.1 -0.1)\">\r\n       <defs>\r\n        <path d=\"M 19.1875 8.296875 \r\nL 53.609375 8.296875 \r\nL 53.609375 0 \r\nL 7.328125 0 \r\nL 7.328125 8.296875 \r\nQ 12.9375 14.109375 22.625 23.890625 \r\nQ 32.328125 33.6875 34.8125 36.53125 \r\nQ 39.546875 41.84375 41.421875 45.53125 \r\nQ 43.3125 49.21875 43.3125 52.78125 \r\nQ 43.3125 58.59375 39.234375 62.25 \r\nQ 35.15625 65.921875 28.609375 65.921875 \r\nQ 23.96875 65.921875 18.8125 64.3125 \r\nQ 13.671875 62.703125 7.8125 59.421875 \r\nL 7.8125 69.390625 \r\nQ 13.765625 71.78125 18.9375 73 \r\nQ 24.125 74.21875 28.421875 74.21875 \r\nQ 39.75 74.21875 46.484375 68.546875 \r\nQ 53.21875 62.890625 53.21875 53.421875 \r\nQ 53.21875 48.921875 51.53125 44.890625 \r\nQ 49.859375 40.875 45.40625 35.40625 \r\nQ 44.1875 33.984375 37.640625 27.21875 \r\nQ 31.109375 20.453125 19.1875 8.296875 \r\nz\r\n\" id=\"DejaVuSans-50\"/>\r\n       </defs>\r\n       <use xlink:href=\"#DejaVuSans-50\"/>\r\n       <use x=\"63.623047\" xlink:href=\"#DejaVuSans-48\"/>\r\n      </g>\r\n     </g>\r\n    </g>\r\n   </g>\r\n   <g id=\"matplotlib.axis_2\">\r\n    <g id=\"ytick_1\">\r\n     <g id=\"line2d_4\">\r\n      <defs>\r\n       <path d=\"M 0 0 \r\nL -3.5 0 \r\n\" id=\"m38513ed4ae\" style=\"stroke:#000000;stroke-width:0.8;\"/>\r\n      </defs>\r\n      <g>\r\n       <use style=\"stroke:#000000;stroke-width:0.8;\" x=\"26.925\" xlink:href=\"#m38513ed4ae\" y=\"10.999219\"/>\r\n      </g>\r\n     </g>\r\n     <g id=\"text_4\">\r\n      <!-- 0 -->\r\n      <g transform=\"translate(13.5625 14.798437)scale(0.1 -0.1)\">\r\n       <use xlink:href=\"#DejaVuSans-48\"/>\r\n      </g>\r\n     </g>\r\n    </g>\r\n    <g id=\"ytick_2\">\r\n     <g id=\"line2d_5\">\r\n      <g>\r\n       <use style=\"stroke:#000000;stroke-width:0.8;\" x=\"26.925\" xlink:href=\"#m38513ed4ae\" y=\"46.29792\"/>\r\n      </g>\r\n     </g>\r\n     <g id=\"text_5\">\r\n      <!-- 10 -->\r\n      <g transform=\"translate(7.2 50.097139)scale(0.1 -0.1)\">\r\n       <use xlink:href=\"#DejaVuSans-49\"/>\r\n       <use x=\"63.623047\" xlink:href=\"#DejaVuSans-48\"/>\r\n      </g>\r\n     </g>\r\n    </g>\r\n    <g id=\"ytick_3\">\r\n     <g id=\"line2d_6\">\r\n      <g>\r\n       <use style=\"stroke:#000000;stroke-width:0.8;\" x=\"26.925\" xlink:href=\"#m38513ed4ae\" y=\"81.596621\"/>\r\n      </g>\r\n     </g>\r\n     <g id=\"text_6\">\r\n      <!-- 20 -->\r\n      <g transform=\"translate(7.2 85.39584)scale(0.1 -0.1)\">\r\n       <use xlink:href=\"#DejaVuSans-50\"/>\r\n       <use x=\"63.623047\" xlink:href=\"#DejaVuSans-48\"/>\r\n      </g>\r\n     </g>\r\n    </g>\r\n   </g>\r\n   <g id=\"patch_3\">\r\n    <path d=\"M 26.925 108.070647 \r\nL 26.925 9.234284 \r\n\" style=\"fill:none;stroke:#000000;stroke-linecap:square;stroke-linejoin:miter;stroke-width:0.8;\"/>\r\n   </g>\r\n   <g id=\"patch_4\">\r\n    <path d=\"M 125.761364 108.070647 \r\nL 125.761364 9.234284 \r\n\" style=\"fill:none;stroke:#000000;stroke-linecap:square;stroke-linejoin:miter;stroke-width:0.8;\"/>\r\n   </g>\r\n   <g id=\"patch_5\">\r\n    <path d=\"M 26.925 108.070647 \r\nL 125.761364 108.070647 \r\n\" style=\"fill:none;stroke:#000000;stroke-linecap:square;stroke-linejoin:miter;stroke-width:0.8;\"/>\r\n   </g>\r\n   <g id=\"patch_6\">\r\n    <path d=\"M 26.925 9.234284 \r\nL 125.761364 9.234284 \r\n\" style=\"fill:none;stroke:#000000;stroke-linecap:square;stroke-linejoin:miter;stroke-width:0.8;\"/>\r\n   </g>\r\n  </g>\r\n  <g id=\"axes_2\">\r\n   <g id=\"patch_7\">\r\n    <path d=\"M 209.543182 108.070647 \r\nL 308.379545 108.070647 \r\nL 308.379545 9.234284 \r\nL 209.543182 9.234284 \r\nz\r\n\" style=\"fill:#ffffff;\"/>\r\n   </g>\r\n   <g clip-path=\"url(#p6f330dd528)\">\r\n    <image height=\"99\" id=\"imagebbd6afeb92\" transform=\"scale(1 -1)translate(0 -99)\" width=\"99\" x=\"209.543182\" xlink:href=\"data:image/png;base64,\r\niVBORw0KGgoAAAANSUhEUgAAAGMAAABjCAYAAACPO76VAAAEjklEQVR4nO2cSyi9XRTG9/kSSTEwIgMGpi7JJbmUoczkWgyZuORaCiNDhQykZCDlXiQkRcpt4FLGRu6SgUsK4Zut/1r765yO73vf96z//3t+o2f1dM7ePK13v2fv9xyfMebbABX8FeoJgF8gDEUgDEUgDEUgDEUgDEUgDEUgDEUgDEUgDEUgDEUgDEUgDEWEeTFIXFwc6fr6euF1d3eT9vl8wvv+/rWhPDQ0JLyRkRHSZ2dnjswz1KAzFIEwFIEwFOEzLpz0JSQkiHpubo50Zmam/8kEWDNsHh4eSE9PTwuvubk5qHlqA52hCIShCFcuU2VlZaKempoK6nV3d3eifnp6Ip2cnBz0+Pv7+6Le2toi3dvbG/T7eA06QxEIQxEIQxGebIdwPj8/RT06Okp6fHxcePz2NScnR3g1NTWkU1NThZebmytqfqttrz18m+Xg4CDg3N0GnaEIhKEIVy5T9idpXt/e3gqvqakpqPe8uLgQNf9Ub9PS0iLqnp4e0uXl5cL7+PggjcsUIBCGIhCGIlxZM+zdVl4vLi66MaRgYGBA1Hw7pKOjQ3jV1dWko6KihFdaWurC7PyDzlAEwlCE57u29i1qUlKS08MHJCIiQtT8gYiuri7hXV1dka6rqxPe+vq643NDZygCYSgCYSjC811b+5rNH3C7ublxffy3tzdR9/X1kQ4Lk/+Ozs5O0m1tbcLb3d0l/fLy4sjc0BmKQBiKcOXWtqSkRNSzs7Okw8PDhdfe3k56cHDQ6an8J/hBmL2rwJ/1bWxsdGQ8dIYiEIYiEIYiXFkzbPb29khnZ2cLb3t7m3RRUZHbU/kRfJ34+voSHv+b8vPzHRkPnaEIhKEIhKEIT7ZDWltbSe/s7AivoKCAdGFhofD4ehIK+DoR6LsiToHOUATCUIQnl6mTkxPSq6urwisuLia9tLQkvIqKCtKHh4fCi4yMJH15eenIPEMNOkMRCEMRCEMRnqwZ/HSNb5kbY8zz8zPpyspK4U1MTJC2TwH5Cd38/Lwj8/wJ5+fnjr8nOkMRCEMRnuzaBiItLY305uam8KKjo/2+bm1tjXRVVZXw7E/yKSkppMfGxoR3f3/vdwx+0vf6+up3jOPjY7/v8RPQGYpAGIpAGIoI+ZrBycjIEPXGxgbpmJgYv6+zd3eXl5dF3d/fT/r6+lp4/EmWxMRE4fHvkszMzAjPvg13AnSGIhCGIjx/1jYQR0dHol5ZWSFt375y+AGVMf+8teUHQ/zZXmOMSU9PJ81/dcEYHC79r0EYikAYilC1ZtjwHyTmv75jjDGTk5Ok7R+oDIS9dcG/W2GvNZzT09Ogx/i3oDMUgTAUoeoT+E/IysoivbCwILz4+HhR89tSfphljDHv7++kY2NjhZeXl0favrzx1zkFOkMRCEMRCEMRv+2aweGnhcb87MSQ8/j4KGp7DXEbdIYiEIYi/ojLlI19SNXQ0EC6trZWePzZrOHhYeE59aBBsKAzFIEwFIEwFPFHrhm/K+gMRSAMRSAMRSAMRSAMRSAMRSAMRSAMRSAMRSAMRSAMRSAMRSAMRfwN+c44Y7Lb2NEAAAAASUVORK5CYII=\" y=\"-9.070647\"/>\r\n   </g>\r\n   <g id=\"matplotlib.axis_3\">\r\n    <g id=\"xtick_4\">\r\n     <g id=\"line2d_7\">\r\n      <g>\r\n       <use style=\"stroke:#000000;stroke-width:0.8;\" x=\"211.308117\" xlink:href=\"#md4e4ddc220\" y=\"108.070647\"/>\r\n      </g>\r\n     </g>\r\n     <g id=\"text_7\">\r\n      <!-- 0 -->\r\n      <g transform=\"translate(208.126867 122.669085)scale(0.1 -0.1)\">\r\n       <use xlink:href=\"#DejaVuSans-48\"/>\r\n      </g>\r\n     </g>\r\n    </g>\r\n    <g id=\"xtick_5\">\r\n     <g id=\"line2d_8\">\r\n      <g>\r\n       <use style=\"stroke:#000000;stroke-width:0.8;\" x=\"246.606818\" xlink:href=\"#md4e4ddc220\" y=\"108.070647\"/>\r\n      </g>\r\n     </g>\r\n     <g id=\"text_8\">\r\n      <!-- 10 -->\r\n      <g transform=\"translate(240.244318 122.669085)scale(0.1 -0.1)\">\r\n       <use xlink:href=\"#DejaVuSans-49\"/>\r\n       <use x=\"63.623047\" xlink:href=\"#DejaVuSans-48\"/>\r\n      </g>\r\n     </g>\r\n    </g>\r\n    <g id=\"xtick_6\">\r\n     <g id=\"line2d_9\">\r\n      <g>\r\n       <use style=\"stroke:#000000;stroke-width:0.8;\" x=\"281.905519\" xlink:href=\"#md4e4ddc220\" y=\"108.070647\"/>\r\n      </g>\r\n     </g>\r\n     <g id=\"text_9\">\r\n      <!-- 20 -->\r\n      <g transform=\"translate(275.543019 122.669085)scale(0.1 -0.1)\">\r\n       <use xlink:href=\"#DejaVuSans-50\"/>\r\n       <use x=\"63.623047\" xlink:href=\"#DejaVuSans-48\"/>\r\n      </g>\r\n     </g>\r\n    </g>\r\n   </g>\r\n   <g id=\"matplotlib.axis_4\">\r\n    <g id=\"ytick_4\">\r\n     <g id=\"line2d_10\">\r\n      <g>\r\n       <use style=\"stroke:#000000;stroke-width:0.8;\" x=\"209.543182\" xlink:href=\"#m38513ed4ae\" y=\"10.999219\"/>\r\n      </g>\r\n     </g>\r\n     <g id=\"text_10\">\r\n      <!-- 0 -->\r\n      <g transform=\"translate(196.180682 14.798437)scale(0.1 -0.1)\">\r\n       <use xlink:href=\"#DejaVuSans-48\"/>\r\n      </g>\r\n     </g>\r\n    </g>\r\n    <g id=\"ytick_5\">\r\n     <g id=\"line2d_11\">\r\n      <g>\r\n       <use style=\"stroke:#000000;stroke-width:0.8;\" x=\"209.543182\" xlink:href=\"#m38513ed4ae\" y=\"46.29792\"/>\r\n      </g>\r\n     </g>\r\n     <g id=\"text_11\">\r\n      <!-- 10 -->\r\n      <g transform=\"translate(189.818182 50.097139)scale(0.1 -0.1)\">\r\n       <use xlink:href=\"#DejaVuSans-49\"/>\r\n       <use x=\"63.623047\" xlink:href=\"#DejaVuSans-48\"/>\r\n      </g>\r\n     </g>\r\n    </g>\r\n    <g id=\"ytick_6\">\r\n     <g id=\"line2d_12\">\r\n      <g>\r\n       <use style=\"stroke:#000000;stroke-width:0.8;\" x=\"209.543182\" xlink:href=\"#m38513ed4ae\" y=\"81.596621\"/>\r\n      </g>\r\n     </g>\r\n     <g id=\"text_12\">\r\n      <!-- 20 -->\r\n      <g transform=\"translate(189.818182 85.39584)scale(0.1 -0.1)\">\r\n       <use xlink:href=\"#DejaVuSans-50\"/>\r\n       <use x=\"63.623047\" xlink:href=\"#DejaVuSans-48\"/>\r\n      </g>\r\n     </g>\r\n    </g>\r\n   </g>\r\n   <g id=\"patch_8\">\r\n    <path d=\"M 209.543182 108.070647 \r\nL 209.543182 9.234284 \r\n\" style=\"fill:none;stroke:#000000;stroke-linecap:square;stroke-linejoin:miter;stroke-width:0.8;\"/>\r\n   </g>\r\n   <g id=\"patch_9\">\r\n    <path d=\"M 308.379545 108.070647 \r\nL 308.379545 9.234284 \r\n\" style=\"fill:none;stroke:#000000;stroke-linecap:square;stroke-linejoin:miter;stroke-width:0.8;\"/>\r\n   </g>\r\n   <g id=\"patch_10\">\r\n    <path d=\"M 209.543182 108.070647 \r\nL 308.379545 108.070647 \r\n\" style=\"fill:none;stroke:#000000;stroke-linecap:square;stroke-linejoin:miter;stroke-width:0.8;\"/>\r\n   </g>\r\n   <g id=\"patch_11\">\r\n    <path d=\"M 209.543182 9.234284 \r\nL 308.379545 9.234284 \r\n\" style=\"fill:none;stroke:#000000;stroke-linecap:square;stroke-linejoin:miter;stroke-width:0.8;\"/>\r\n   </g>\r\n  </g>\r\n  <g id=\"axes_3\">\r\n   <g id=\"patch_12\">\r\n    <path d=\"M 26.925 226.674284 \r\nL 125.761364 226.674284 \r\nL 125.761364 127.83792 \r\nL 26.925 127.83792 \r\nz\r\n\" style=\"fill:#ffffff;\"/>\r\n   </g>\r\n   <g clip-path=\"url(#p13ae32511f)\">\r\n    <image height=\"99\" id=\"image50c6a314f7\" transform=\"scale(1 -1)translate(0 -99)\" width=\"99\" x=\"26.925\" xlink:href=\"data:image/png;base64,\r\niVBORw0KGgoAAAANSUhEUgAAAGMAAABjCAYAAACPO76VAAADg0lEQVR4nO2cv0vrYBSGvxbxx1DBSVBHFUHQQRx0VtDRWQcpouLkUHDqv1EEoYPd7OJSN0FdVOygFmrbQUEF6SLaoV1E73bMybWXNk2a95r3mc7hYHLk8XxfmsaEjDFfhkAQ9rsB8g1lAEEZQFAGEJQBBGUAQRlAUAYQlAEEZQDR4XcD7WZ1dVXlyWRS4r29PVXb2NhoR0sCJwMIygAicMvU4uKiykOhkE+d/A0nAwjKAIIygAjcnmHn6wvni05OBhCUAUTglykr5+fnvp6fkwEEZQBBGUAEfs+w3g75/Pz0sRNOBhSUAUTglynrJ/BSqeRjJ5wMKCgDCMoAgjKAoAwgKAOIwF/aWllaWlL5xcVFW8/PyQCCMoCgDCBCxuG/Hu/s7Kh8dna25WYODw9Vfnd3J7Fb6/f6+rrKd3d3Jb6/v1e14eFhV87ZKJwMICgDiKaWqUQiIbH9cfm3tzeJHx8fG25gYmLiuxnbc68fHx8SV6tVVcvn8xJfXl6qWjabVfnp6anE5XJZ1Z6fnyXu6+tTtc7Ozn/27jacDCAoAwjKAKKp2yE9PT0S29f3zc1NidPpdMPHnJycrHvMubk5iYeGhlTNup5Ho1FVW1tbU3mtVpPYvr90d3dLHA7rv82xsTGJC4XCz7+Ai3AygKAMICgDCNduob++vjr6uZubm7q16+vrho6xtbWl8t7eXpUvLCxIvLKyompdXV0S2/eMqakpiblnBAzKAMK1ZWp6elri4+Njtw7riEqlovKDg4MfY2OMSaVSEi8vL6taPB6XOJPJqJr19o9bcDKAoAwgKAOIpvaMYrFYtzY+Pt5yM34Qi8Uktt5+McaY0dFRiSORiKpxz/jlUAYQTS1TR0dHElsv+/5nrN/8PTw8qFp/f7/Eg4ODqvb09OR6L5wMICgDCMoAoqk94/b2VmL7Uxa/gff397q1+fl5lXvxUDQnAwjKAMLxXVu/3ybgBfYHGayXryMjI56fn5MBBGUAQRlAON4z9vf3Vd6ONdVrXl5eVG59N/rMzIyqefGAGycDCMoAwvEydXJyovJcLtdqL75jv1y33sUdGBhQNS/eh8vJAIIygKAMIBzvGWdnZ272AcnV1ZXE29vbnp+PkwEEZQDh+A0JxH04GUBQBhCUAQRlAEEZQFAGEJQBBGUAQRlAUAYQlAEEZQBBGUBQBhCUAQRlAEEZQPwBgPrAQHML2WEAAAAASUVORK5CYII=\" y=\"-127.674284\"/>\r\n   </g>\r\n   <g id=\"matplotlib.axis_5\">\r\n    <g id=\"xtick_7\">\r\n     <g id=\"line2d_13\">\r\n      <g>\r\n       <use style=\"stroke:#000000;stroke-width:0.8;\" x=\"28.689935\" xlink:href=\"#md4e4ddc220\" y=\"226.674284\"/>\r\n      </g>\r\n     </g>\r\n     <g id=\"text_13\">\r\n      <!-- 0 -->\r\n      <g transform=\"translate(25.508685 241.272721)scale(0.1 -0.1)\">\r\n       <use xlink:href=\"#DejaVuSans-48\"/>\r\n      </g>\r\n     </g>\r\n    </g>\r\n    <g id=\"xtick_8\">\r\n     <g id=\"line2d_14\">\r\n      <g>\r\n       <use style=\"stroke:#000000;stroke-width:0.8;\" x=\"63.988636\" xlink:href=\"#md4e4ddc220\" y=\"226.674284\"/>\r\n      </g>\r\n     </g>\r\n     <g id=\"text_14\">\r\n      <!-- 10 -->\r\n      <g transform=\"translate(57.626136 241.272721)scale(0.1 -0.1)\">\r\n       <use xlink:href=\"#DejaVuSans-49\"/>\r\n       <use x=\"63.623047\" xlink:href=\"#DejaVuSans-48\"/>\r\n      </g>\r\n     </g>\r\n    </g>\r\n    <g id=\"xtick_9\">\r\n     <g id=\"line2d_15\">\r\n      <g>\r\n       <use style=\"stroke:#000000;stroke-width:0.8;\" x=\"99.287338\" xlink:href=\"#md4e4ddc220\" y=\"226.674284\"/>\r\n      </g>\r\n     </g>\r\n     <g id=\"text_15\">\r\n      <!-- 20 -->\r\n      <g transform=\"translate(92.924838 241.272721)scale(0.1 -0.1)\">\r\n       <use xlink:href=\"#DejaVuSans-50\"/>\r\n       <use x=\"63.623047\" xlink:href=\"#DejaVuSans-48\"/>\r\n      </g>\r\n     </g>\r\n    </g>\r\n   </g>\r\n   <g id=\"matplotlib.axis_6\">\r\n    <g id=\"ytick_7\">\r\n     <g id=\"line2d_16\">\r\n      <g>\r\n       <use style=\"stroke:#000000;stroke-width:0.8;\" x=\"26.925\" xlink:href=\"#m38513ed4ae\" y=\"129.602855\"/>\r\n      </g>\r\n     </g>\r\n     <g id=\"text_16\">\r\n      <!-- 0 -->\r\n      <g transform=\"translate(13.5625 133.402074)scale(0.1 -0.1)\">\r\n       <use xlink:href=\"#DejaVuSans-48\"/>\r\n      </g>\r\n     </g>\r\n    </g>\r\n    <g id=\"ytick_8\">\r\n     <g id=\"line2d_17\">\r\n      <g>\r\n       <use style=\"stroke:#000000;stroke-width:0.8;\" x=\"26.925\" xlink:href=\"#m38513ed4ae\" y=\"164.901556\"/>\r\n      </g>\r\n     </g>\r\n     <g id=\"text_17\">\r\n      <!-- 10 -->\r\n      <g transform=\"translate(7.2 168.700775)scale(0.1 -0.1)\">\r\n       <use xlink:href=\"#DejaVuSans-49\"/>\r\n       <use x=\"63.623047\" xlink:href=\"#DejaVuSans-48\"/>\r\n      </g>\r\n     </g>\r\n    </g>\r\n    <g id=\"ytick_9\">\r\n     <g id=\"line2d_18\">\r\n      <g>\r\n       <use style=\"stroke:#000000;stroke-width:0.8;\" x=\"26.925\" xlink:href=\"#m38513ed4ae\" y=\"200.200258\"/>\r\n      </g>\r\n     </g>\r\n     <g id=\"text_18\">\r\n      <!-- 20 -->\r\n      <g transform=\"translate(7.2 203.999476)scale(0.1 -0.1)\">\r\n       <use xlink:href=\"#DejaVuSans-50\"/>\r\n       <use x=\"63.623047\" xlink:href=\"#DejaVuSans-48\"/>\r\n      </g>\r\n     </g>\r\n    </g>\r\n   </g>\r\n   <g id=\"patch_13\">\r\n    <path d=\"M 26.925 226.674284 \r\nL 26.925 127.83792 \r\n\" style=\"fill:none;stroke:#000000;stroke-linecap:square;stroke-linejoin:miter;stroke-width:0.8;\"/>\r\n   </g>\r\n   <g id=\"patch_14\">\r\n    <path d=\"M 125.761364 226.674284 \r\nL 125.761364 127.83792 \r\n\" style=\"fill:none;stroke:#000000;stroke-linecap:square;stroke-linejoin:miter;stroke-width:0.8;\"/>\r\n   </g>\r\n   <g id=\"patch_15\">\r\n    <path d=\"M 26.925 226.674284 \r\nL 125.761364 226.674284 \r\n\" style=\"fill:none;stroke:#000000;stroke-linecap:square;stroke-linejoin:miter;stroke-width:0.8;\"/>\r\n   </g>\r\n   <g id=\"patch_16\">\r\n    <path d=\"M 26.925 127.83792 \r\nL 125.761364 127.83792 \r\n\" style=\"fill:none;stroke:#000000;stroke-linecap:square;stroke-linejoin:miter;stroke-width:0.8;\"/>\r\n   </g>\r\n  </g>\r\n  <g id=\"axes_4\">\r\n   <g id=\"patch_17\">\r\n    <path d=\"M 209.543182 226.674284 \r\nL 308.379545 226.674284 \r\nL 308.379545 127.83792 \r\nL 209.543182 127.83792 \r\nz\r\n\" style=\"fill:#ffffff;\"/>\r\n   </g>\r\n   <g clip-path=\"url(#p781264adc7)\">\r\n    <image height=\"99\" id=\"image4da9ba6f74\" transform=\"scale(1 -1)translate(0 -99)\" width=\"99\" x=\"209.543182\" xlink:href=\"data:image/png;base64,\r\niVBORw0KGgoAAAANSUhEUgAAAGMAAABjCAYAAACPO76VAAADQUlEQVR4nO2cv0tyYRTHH+MdBAcRgkRDQhocHJrDRXQR3IzcQsvBP0IQa21zcGhIXNTBwdlBcfJPqCGqrZwUHFyqd3ve59wXo+Le6zf9fqZzOF468Ok8jz+eez1KqQ9FINhZdwPkH5QBBGUAQRlAUAYQlAEEZQBBGUBQBhCUAcQft/9gMBgUebfb1XEikRC1x8dHHR8eHjrbGACcDCAoAwjXl6lYLCby4+Njt1uAhZMBBGUAQRlAUAYQlAEEZQDh+lvb2Wwm8peXFx2HQiFRC4fDOr6+vha1SqWi4+VyaWOH64OTAQRlAEEZQHjUmg+x3d7e6rhQKIja+/v7yuui0aiOn5+fbe9rHXAygKAMINa+TJm8vb2J/LNl6uzsTMftdtuxntyEkwEEZQBBGUBA7RnT6VTkgUBg5Wsnk4mOM5mMqC0WC3sbcwlOBhCUAQTUMnV0dCTyXq+n40gksvK6fr8v8pOTE1v7cgtOBhCUAQRlAAG1Z1hpNBo6LpVKX74uHo+L/P7+3raenISTAQRlAAG9TB0cHOj44eHhy9e1Wi2RF4tFu1pyFE4GEJQBBGUA4fohtu/w9PSk41wuJ2rNZlPHPp9P1MzDCkoptbe3p+PX11f7GrQZTgYQlAEEZQAB/TnjM8rlso7r9bqo7ezI/7HBYKDjfD4vavP53IHufgYnAwjKAOLXLlPmVyXmL4JK/f+LoXkY7urqStQuLy9t7+2ncDKAoAwgKAOIX7tnmOzu7orc+pWHuWdY7yk8PT3V8XA4tL+5b8DJAIIygNiIZcrKzc2NyM/Pz1e+djQa6TiVSjnV0pfgZABBGUBQBhAbuWdYHzxp3vNnfWClycXFhcitp0ychpMBBGUAsZHLlJV0Oq3jTqcjan6/X8d3d3eils1mdWz9VO/Ek3w4GUBQBhCUAcRW7Bkm1WpV5OYT3ayYBxuSyaSojcdjextTnAwoKAMI6LO2TmB9UJj5FtXr9brdjoCTAQRlAEEZQGzdnmHe16GUUvv7+zqu1WqiZr619Xg8jvalFCcDCsoAYus+gSPDyQCCMoCgDCAoAwjKAIIygKAMICgDCMoAgjKAoAwgKAMIygCCMoCgDCAoAwjKAOIvm8meZYdQHtQAAAAASUVORK5CYII=\" y=\"-127.674284\"/>\r\n   </g>\r\n   <g id=\"matplotlib.axis_7\">\r\n    <g id=\"xtick_10\">\r\n     <g id=\"line2d_19\">\r\n      <g>\r\n       <use style=\"stroke:#000000;stroke-width:0.8;\" x=\"211.308117\" xlink:href=\"#md4e4ddc220\" y=\"226.674284\"/>\r\n      </g>\r\n     </g>\r\n     <g id=\"text_19\">\r\n      <!-- 0 -->\r\n      <g transform=\"translate(208.126867 241.272721)scale(0.1 -0.1)\">\r\n       <use xlink:href=\"#DejaVuSans-48\"/>\r\n      </g>\r\n     </g>\r\n    </g>\r\n    <g id=\"xtick_11\">\r\n     <g id=\"line2d_20\">\r\n      <g>\r\n       <use style=\"stroke:#000000;stroke-width:0.8;\" x=\"246.606818\" xlink:href=\"#md4e4ddc220\" y=\"226.674284\"/>\r\n      </g>\r\n     </g>\r\n     <g id=\"text_20\">\r\n      <!-- 10 -->\r\n      <g transform=\"translate(240.244318 241.272721)scale(0.1 -0.1)\">\r\n       <use xlink:href=\"#DejaVuSans-49\"/>\r\n       <use x=\"63.623047\" xlink:href=\"#DejaVuSans-48\"/>\r\n      </g>\r\n     </g>\r\n    </g>\r\n    <g id=\"xtick_12\">\r\n     <g id=\"line2d_21\">\r\n      <g>\r\n       <use style=\"stroke:#000000;stroke-width:0.8;\" x=\"281.905519\" xlink:href=\"#md4e4ddc220\" y=\"226.674284\"/>\r\n      </g>\r\n     </g>\r\n     <g id=\"text_21\">\r\n      <!-- 20 -->\r\n      <g transform=\"translate(275.543019 241.272721)scale(0.1 -0.1)\">\r\n       <use xlink:href=\"#DejaVuSans-50\"/>\r\n       <use x=\"63.623047\" xlink:href=\"#DejaVuSans-48\"/>\r\n      </g>\r\n     </g>\r\n    </g>\r\n   </g>\r\n   <g id=\"matplotlib.axis_8\">\r\n    <g id=\"ytick_10\">\r\n     <g id=\"line2d_22\">\r\n      <g>\r\n       <use style=\"stroke:#000000;stroke-width:0.8;\" x=\"209.543182\" xlink:href=\"#m38513ed4ae\" y=\"129.602855\"/>\r\n      </g>\r\n     </g>\r\n     <g id=\"text_22\">\r\n      <!-- 0 -->\r\n      <g transform=\"translate(196.180682 133.402074)scale(0.1 -0.1)\">\r\n       <use xlink:href=\"#DejaVuSans-48\"/>\r\n      </g>\r\n     </g>\r\n    </g>\r\n    <g id=\"ytick_11\">\r\n     <g id=\"line2d_23\">\r\n      <g>\r\n       <use style=\"stroke:#000000;stroke-width:0.8;\" x=\"209.543182\" xlink:href=\"#m38513ed4ae\" y=\"164.901556\"/>\r\n      </g>\r\n     </g>\r\n     <g id=\"text_23\">\r\n      <!-- 10 -->\r\n      <g transform=\"translate(189.818182 168.700775)scale(0.1 -0.1)\">\r\n       <use xlink:href=\"#DejaVuSans-49\"/>\r\n       <use x=\"63.623047\" xlink:href=\"#DejaVuSans-48\"/>\r\n      </g>\r\n     </g>\r\n    </g>\r\n    <g id=\"ytick_12\">\r\n     <g id=\"line2d_24\">\r\n      <g>\r\n       <use style=\"stroke:#000000;stroke-width:0.8;\" x=\"209.543182\" xlink:href=\"#m38513ed4ae\" y=\"200.200258\"/>\r\n      </g>\r\n     </g>\r\n     <g id=\"text_24\">\r\n      <!-- 20 -->\r\n      <g transform=\"translate(189.818182 203.999476)scale(0.1 -0.1)\">\r\n       <use xlink:href=\"#DejaVuSans-50\"/>\r\n       <use x=\"63.623047\" xlink:href=\"#DejaVuSans-48\"/>\r\n      </g>\r\n     </g>\r\n    </g>\r\n   </g>\r\n   <g id=\"patch_18\">\r\n    <path d=\"M 209.543182 226.674284 \r\nL 209.543182 127.83792 \r\n\" style=\"fill:none;stroke:#000000;stroke-linecap:square;stroke-linejoin:miter;stroke-width:0.8;\"/>\r\n   </g>\r\n   <g id=\"patch_19\">\r\n    <path d=\"M 308.379545 226.674284 \r\nL 308.379545 127.83792 \r\n\" style=\"fill:none;stroke:#000000;stroke-linecap:square;stroke-linejoin:miter;stroke-width:0.8;\"/>\r\n   </g>\r\n   <g id=\"patch_20\">\r\n    <path d=\"M 209.543182 226.674284 \r\nL 308.379545 226.674284 \r\n\" style=\"fill:none;stroke:#000000;stroke-linecap:square;stroke-linejoin:miter;stroke-width:0.8;\"/>\r\n   </g>\r\n   <g id=\"patch_21\">\r\n    <path d=\"M 209.543182 127.83792 \r\nL 308.379545 127.83792 \r\n\" style=\"fill:none;stroke:#000000;stroke-linecap:square;stroke-linejoin:miter;stroke-width:0.8;\"/>\r\n   </g>\r\n  </g>\r\n </g>\r\n <defs>\r\n  <clipPath id=\"pe87917171d\">\r\n   <rect height=\"98.836364\" width=\"98.836364\" x=\"26.925\" y=\"9.234284\"/>\r\n  </clipPath>\r\n  <clipPath id=\"p6f330dd528\">\r\n   <rect height=\"98.836364\" width=\"98.836364\" x=\"209.543182\" y=\"9.234284\"/>\r\n  </clipPath>\r\n  <clipPath id=\"p13ae32511f\">\r\n   <rect height=\"98.836364\" width=\"98.836364\" x=\"26.925\" y=\"127.83792\"/>\r\n  </clipPath>\r\n  <clipPath id=\"p781264adc7\">\r\n   <rect height=\"98.836364\" width=\"98.836364\" x=\"209.543182\" y=\"127.83792\"/>\r\n  </clipPath>\r\n </defs>\r\n</svg>\r\n",
            "image/png": "[encoded data removed]"
          },
          "metadata": {
            "needs_background": "light"
          }
        }
      ]
    },
    {
      "cell_type": "markdown",
      "metadata": {
        "id": "0C1TncQhzapf",
        "colab_type": "text"
      },
      "source": [
        "# Formatting Data and Labels for Keras"
      ]
    },
    {
      "cell_type": "markdown",
      "metadata": {
        "id": "YuUHfffMzcnG",
        "colab_type": "text"
      },
      "source": [
        "We can flatten this array into a vector of $28\\times28 = 784$ numbers. It doesn't matter how we flatten the array, as long as we're consistent between images. From this perspective, the MNIST images are just a bunch of points in a 784-dimensional vector space. The data should always be of the format (Number of data points, data point dimension). In this case the training data will be of format $60,000\\times784$."
      ]
    },
    {
      "cell_type": "code",
      "metadata": {
        "id": "WUAPRSm5zj0q",
        "colab_type": "code",
        "colab": {}
      },
      "source": [
        "num_pixels = X_train1.shape[1] * X_train1.shape[2]\n",
        "\n",
        "X_train = X_train1.reshape(X_train1.shape[0], num_pixels).astype('float32')\n",
        "\n",
        "X_test = X_test1.reshape(X_test1.shape[0], num_pixels).astype('float32')\n",
        "\n",
        "#X_train = X_train1 / 255\n",
        "\n",
        "#X_test = X_test1 / 255\n",
        "\n",
        "y_train = np_utils.to_categorical(y_train1)\n",
        "\n",
        "y_test = np_utils.to_categorical(y_test1)\n",
        "\n",
        "num_classes = y_test.shape[1]"
      ],
      "execution_count": 11,
      "outputs": []
    },
    {
      "cell_type": "code",
      "metadata": {
        "id": "3Qa_Wz5Bzu_x",
        "colab_type": "code",
        "colab": {}
      },
      "source": [
        "X_train.shape"
      ],
      "execution_count": 12,
      "outputs": [
        {
          "output_type": "execute_result",
          "data": {
            "text/plain": [
              "(60000, 784)"
            ]
          },
          "metadata": {},
          "execution_count": 12
        }
      ]
    },
    {
      "cell_type": "code",
      "metadata": {
        "id": "tKMkULioz0BC",
        "colab_type": "code",
        "colab": {}
      },
      "source": [
        "X_test.shape"
      ],
      "execution_count": 13,
      "outputs": [
        {
          "output_type": "execute_result",
          "data": {
            "text/plain": [
              "(10000, 784)"
            ]
          },
          "metadata": {},
          "execution_count": 13
        }
      ]
    },
    {
      "cell_type": "code",
      "metadata": {
        "id": "gjXdMAgQz3Yk",
        "colab_type": "code",
        "colab": {}
      },
      "source": [
        "y_train.shape"
      ],
      "execution_count": 14,
      "outputs": [
        {
          "output_type": "execute_result",
          "data": {
            "text/plain": [
              "(60000, 10)"
            ]
          },
          "metadata": {},
          "execution_count": 14
        }
      ]
    },
    {
      "cell_type": "code",
      "metadata": {
        "id": "YwG7OnE5z5av",
        "colab_type": "code",
        "colab": {}
      },
      "source": [
        "y_test.shape"
      ],
      "execution_count": 15,
      "outputs": [
        {
          "output_type": "execute_result",
          "data": {
            "text/plain": [
              "(10000, 10)"
            ]
          },
          "metadata": {},
          "execution_count": 15
        }
      ]
    },
    {
      "cell_type": "markdown",
      "metadata": {
        "id": "S5-Tn0K30Hyq",
        "colab_type": "text"
      },
      "source": [
        "Here we will define a single layer neural network. It will have a input layer of $784$ neurons, i.e. the input dimension and output layer of $10$ neurons, i.e. number of classes. The activation function used will be softmax activation."
      ]
    },
    {
      "cell_type": "markdown",
      "metadata": {
        "id": "VUZqC-Mf0F4a",
        "colab_type": "text"
      },
      "source": [
        "# Defining a single layer neural network model"
      ]
    },
    {
      "cell_type": "code",
      "metadata": {
        "id": "IlB928RI0LWk",
        "colab_type": "code",
        "colab": {}
      },
      "source": [
        "# create model\n",
        "\n",
        "model = Sequential()\n",
        "\n",
        "model.add(Dense(num_classes, input_dim=num_pixels, activation='softmax'))\n"
      ],
      "execution_count": 16,
      "outputs": []
    },
    {
      "cell_type": "markdown",
      "metadata": {
        "id": "0woBCP1C0TV-",
        "colab_type": "text"
      },
      "source": [
        "# Compiling the model"
      ]
    },
    {
      "cell_type": "markdown",
      "metadata": {
        "id": "4aSmUA3-0WIJ",
        "colab_type": "text"
      },
      "source": [
        "Once the model is defined, we have to compile it. While compiling we provide the loss function to be used, the optimizer and any metric. Here we will use crossentropy loss with Adam optimizer and accuracy as a metric."
      ]
    },
    {
      "cell_type": "code",
      "metadata": {
        "id": "c8n--FDX0YjB",
        "colab_type": "code",
        "colab": {}
      },
      "source": [
        "# Compile model\n",
        "model.compile(loss='categorical_crossentropy', optimizer='adam', metrics=['accuracy'])"
      ],
      "execution_count": 17,
      "outputs": []
    },
    {
      "cell_type": "markdown",
      "metadata": {
        "id": "xq5f_ROP0ieD",
        "colab_type": "text"
      },
      "source": [
        "# Training/Fitting the model"
      ]
    },
    {
      "cell_type": "markdown",
      "metadata": {
        "id": "V3gWi2g40kSf",
        "colab_type": "text"
      },
      "source": [
        "Now the model is ready to be trained. We will provide training data to the network. Also we will specify the validation data, over which the model will only be validated."
      ]
    },
    {
      "cell_type": "code",
      "metadata": {
        "id": "xsJq43ok0mlT",
        "colab_type": "code",
        "colab": {}
      },
      "source": [
        "# Training model\n",
        "\n",
        "model.fit(X_train, y_train, validation_data=(X_test, y_test), epochs=20, batch_size=50)"
      ],
      "execution_count": 25,
      "outputs": [
        {
          "output_type": "stream",
          "name": "stdout",
          "text": [
            "Epoch 1/20\n",
            "1200/1200 [==============================] - 3s 2ms/step - loss: 4.9730 - accuracy: 0.8769 - val_loss: 4.5782 - val_accuracy: 0.8980\n",
            "Epoch 2/20\n",
            "1200/1200 [==============================] - 3s 2ms/step - loss: 4.1361 - accuracy: 0.8883 - val_loss: 5.4679 - val_accuracy: 0.8746\n",
            "Epoch 3/20\n",
            "1200/1200 [==============================] - 2s 2ms/step - loss: 4.0787 - accuracy: 0.8890 - val_loss: 5.0019 - val_accuracy: 0.8847\n",
            "Epoch 4/20\n",
            "1200/1200 [==============================] - 2s 2ms/step - loss: 3.8950 - accuracy: 0.8928 - val_loss: 4.7489 - val_accuracy: 0.8881\n",
            "Epoch 5/20\n",
            "1200/1200 [==============================] - 2s 2ms/step - loss: 3.9238 - accuracy: 0.8931 - val_loss: 4.6284 - val_accuracy: 0.8992\n",
            "Epoch 6/20\n",
            "1200/1200 [==============================] - 2s 2ms/step - loss: 4.0357 - accuracy: 0.8919 - val_loss: 4.6077 - val_accuracy: 0.8987\n",
            "Epoch 7/20\n",
            "1200/1200 [==============================] - 2s 2ms/step - loss: 4.0081 - accuracy: 0.8917 - val_loss: 4.7472 - val_accuracy: 0.8923\n",
            "Epoch 8/20\n",
            "1200/1200 [==============================] - 2s 2ms/step - loss: 3.9798 - accuracy: 0.8921 - val_loss: 5.1722 - val_accuracy: 0.8815\n",
            "Epoch 9/20\n",
            "1200/1200 [==============================] - 2s 2ms/step - loss: 3.8504 - accuracy: 0.8960 - val_loss: 5.2582 - val_accuracy: 0.8747\n",
            "Epoch 10/20\n",
            "1200/1200 [==============================] - 2s 2ms/step - loss: 3.9679 - accuracy: 0.8929 - val_loss: 6.0224 - val_accuracy: 0.8860\n",
            "Epoch 11/20\n",
            "1200/1200 [==============================] - 2s 2ms/step - loss: 4.0081 - accuracy: 0.8935 - val_loss: 5.3309 - val_accuracy: 0.8778\n",
            "Epoch 12/20\n",
            "1200/1200 [==============================] - 2s 2ms/step - loss: 3.9179 - accuracy: 0.8946 - val_loss: 4.6588 - val_accuracy: 0.8978\n",
            "Epoch 13/20\n",
            "1200/1200 [==============================] - 3s 2ms/step - loss: 3.9924 - accuracy: 0.8934 - val_loss: 5.8178 - val_accuracy: 0.8782\n",
            "Epoch 14/20\n",
            "1200/1200 [==============================] - 2s 2ms/step - loss: 4.1594 - accuracy: 0.8920 - val_loss: 5.1482 - val_accuracy: 0.8914\n",
            "Epoch 15/20\n",
            "1200/1200 [==============================] - 2s 2ms/step - loss: 3.9815 - accuracy: 0.8955 - val_loss: 4.8290 - val_accuracy: 0.8978\n",
            "Epoch 16/20\n",
            "1200/1200 [==============================] - 2s 2ms/step - loss: 3.9258 - accuracy: 0.8962 - val_loss: 4.8208 - val_accuracy: 0.8981\n",
            "Epoch 17/20\n",
            "1200/1200 [==============================] - 2s 2ms/step - loss: 4.0220 - accuracy: 0.8950 - val_loss: 5.9102 - val_accuracy: 0.8841\n",
            "Epoch 18/20\n",
            "1200/1200 [==============================] - 3s 2ms/step - loss: 4.0346 - accuracy: 0.8951 - val_loss: 5.2785 - val_accuracy: 0.8888\n",
            "Epoch 19/20\n",
            "1200/1200 [==============================] - 2s 2ms/step - loss: 3.9206 - accuracy: 0.8951 - val_loss: 4.9250 - val_accuracy: 0.8981\n",
            "Epoch 20/20\n",
            "1200/1200 [==============================] - 3s 2ms/step - loss: 4.0125 - accuracy: 0.8950 - val_loss: 4.9936 - val_accuracy: 0.9031\n"
          ]
        },
        {
          "output_type": "execute_result",
          "data": {
            "text/plain": [
              "<tensorflow.python.keras.callbacks.History at 0x1b1f9b811f0>"
            ]
          },
          "metadata": {},
          "execution_count": 25
        }
      ]
    },
    {
      "cell_type": "markdown",
      "metadata": {
        "id": "b4BjzfDW0w6v",
        "colab_type": "text"
      },
      "source": [
        "# Evaluating the model"
      ]
    },
    {
      "cell_type": "markdown",
      "metadata": {
        "id": "_0FdSOdT01df",
        "colab_type": "text"
      },
      "source": [
        "Finally we will evaluate the model on the testing dataset."
      ]
    },
    {
      "cell_type": "code",
      "metadata": {
        "id": "atp-I5qg04Ao",
        "colab_type": "code",
        "colab": {}
      },
      "source": [
        "# Final evaluation of the model\n",
        "\n",
        "scores = model.evaluate(X_test, y_test)\n",
        "\n",
        "print(\"Baseline Error: %.2f%%\" % (100-scores[1]*100))"
      ],
      "execution_count": 30,
      "outputs": [
        {
          "output_type": "stream",
          "name": "stdout",
          "text": [
            "313/313 [==============================] - 0s 993us/step - loss: 4.9936 - accuracy: 0.9031\n",
            "Baseline Error: 9.69%\n"
          ]
        }
      ]
    },
    {
      "cell_type": "markdown",
      "metadata": {
        "id": "7Ux0ZGYe1Abb",
        "colab_type": "text"
      },
      "source": [
        "# Defining a multi-layer model"
      ]
    },
    {
      "cell_type": "markdown",
      "metadata": {
        "id": "N9zn7vqG1DUh",
        "colab_type": "text"
      },
      "source": [
        "Now we will define a multi layer neural network in which we will add $2$ hidden layers having $500$ and $100$ neurons."
      ]
    },
    {
      "cell_type": "code",
      "metadata": {
        "id": "NyWnrEko1D-4",
        "colab_type": "code",
        "colab": {}
      },
      "source": [
        "model = Sequential()\n",
        "\n",
        "model.add(Dense(500, input_dim=num_pixels, activation='relu'))\n",
        "\n",
        "model.add(Dense(100, activation='relu'))\n",
        "\n",
        "model.add(Dense(num_classes, activation='softmax'))\n"
      ],
      "execution_count": 35,
      "outputs": []
    },
    {
      "cell_type": "code",
      "metadata": {
        "id": "2OT0zQrT1FtF",
        "colab_type": "code",
        "colab": {}
      },
      "source": [
        "# Compile model\n",
        "\n",
        "model.compile(loss='categorical_crossentropy', optimizer='adam', metrics=['accuracy'])\n",
        "\n",
        "# Training model\n",
        "\n",
        "model.fit(X_train, y_train, validation_data=(X_test, y_test), epochs=10, batch_size=200)\n",
        "\n",
        "# Final evaluation of the model\n",
        "\n",
        "scores = model.evaluate(X_test, y_test)\n",
        "\n",
        "print(\"Baseline Error: %.2f%%\" % (100-scores[1]*100))"
      ],
      "execution_count": 36,
      "outputs": [
        {
          "output_type": "stream",
          "name": "stdout",
          "text": [
            "Epoch 1/10\n",
            "300/300 [==============================] - 3s 11ms/step - loss: 3.0618 - accuracy: 0.8526 - val_loss: 0.5649 - val_accuracy: 0.8878\n",
            "Epoch 2/10\n",
            "300/300 [==============================] - 3s 10ms/step - loss: 0.3594 - accuracy: 0.9182 - val_loss: 0.3499 - val_accuracy: 0.9281\n",
            "Epoch 3/10\n",
            "300/300 [==============================] - 3s 10ms/step - loss: 0.2223 - accuracy: 0.9437 - val_loss: 0.2826 - val_accuracy: 0.9412\n",
            "Epoch 4/10\n",
            "300/300 [==============================] - 3s 10ms/step - loss: 0.1602 - accuracy: 0.9576 - val_loss: 0.2516 - val_accuracy: 0.9509\n",
            "Epoch 5/10\n",
            "300/300 [==============================] - 3s 10ms/step - loss: 0.1365 - accuracy: 0.9639 - val_loss: 0.2532 - val_accuracy: 0.9469\n",
            "Epoch 6/10\n",
            "300/300 [==============================] - 3s 10ms/step - loss: 0.1110 - accuracy: 0.9692 - val_loss: 0.2129 - val_accuracy: 0.9590\n",
            "Epoch 7/10\n",
            "300/300 [==============================] - 3s 10ms/step - loss: 0.0995 - accuracy: 0.9729 - val_loss: 0.2577 - val_accuracy: 0.9598\n",
            "Epoch 8/10\n",
            "300/300 [==============================] - 3s 11ms/step - loss: 0.0927 - accuracy: 0.9744 - val_loss: 0.2290 - val_accuracy: 0.9613\n",
            "Epoch 9/10\n",
            "300/300 [==============================] - 3s 11ms/step - loss: 0.0823 - accuracy: 0.9778 - val_loss: 0.2195 - val_accuracy: 0.9604\n",
            "Epoch 10/10\n",
            "300/300 [==============================] - 3s 10ms/step - loss: 0.0878 - accuracy: 0.9773 - val_loss: 0.2658 - val_accuracy: 0.9560\n",
            "313/313 [==============================] - 1s 3ms/step - loss: 0.2658 - accuracy: 0.9560\n",
            "Baseline Error: 4.40%\n"
          ]
        }
      ]
    },
    {
      "cell_type": "code",
      "metadata": {
        "id": "GXWqw37F1QC1",
        "colab_type": "code",
        "colab": {}
      },
      "source": [
        ""
      ],
      "execution_count": null,
      "outputs": []
    }
  ]
}